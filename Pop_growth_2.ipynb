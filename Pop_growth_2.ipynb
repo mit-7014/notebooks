{
 "cells": [
  {
   "cell_type": "markdown",
   "metadata": {
    "id": "I6bkNGJXd-C7"
   },
   "source": [
    "## Population Growth Exercise 2: Modeling Populations in Discrete Time\n",
    "\n",
    "### Context\n",
    "Population growth can be more complicated than what we saw in Exercise 1. For example, population growth in some cases can **\"overshoot\"** or surpass the carrying capacity (K), depending upon the paramters in the logistic growth model.\n",
    "\n",
    "In this exercise, we will explore a simple but important assumption used to model population growth. The previous exercise used calculus to model the **instantaneous** rate of change of populations. In reality, most populations reproduce in **discrete** generations, which can lead to interesting dynamics over time.\n",
    "\n",
    "By considering population growth in \"discrete time\", we can see how populations grow, reach carrying capacity, and potentially overshoot the carrying capacity. It also showcases how seemingly predictable systems can exhibit unpredictable behavior due to a range of realistic conditions experienced in nature."
   ]
  },
  {
   "cell_type": "markdown",
   "metadata": {
    "id": "R8Y-m2Grr0Ea"
   },
   "source": [
    "<h3>Running Code Cells</h3>\n",
    "If you've never used a Jupyter notebook on Google Colab before, here's a quick orientation:\n",
    "\n",
    "Below are code cells containing Python code below that you will want to run.\n",
    "\n",
    "You can run code cells individually in Colab by:\n",
    "- clicking on a code cell and hitting the \"Run\" button (depicted as the \"play\" arrow icon) to the top left of the cell\n",
    "- clicking on a code cell and hitting Cmd/Ctrl+Enter/Return\n",
    "\n",
    "You can run all code cells in this notebook in Colab by:\n",
    "- clicking on \"Runtime\" in the top navigation bar and select \"Run all\"\n",
    "\n",
    "You can edit code within a code cell by clicking into it and then deleting/typing text\n",
    "\n",
    "### Run the following code cell below to import the libraries needed to run the simulation!"
   ]
  },
  {
   "cell_type": "code",
   "execution_count": null,
   "metadata": {
    "executionInfo": {
     "elapsed": 1,
     "status": "ok",
     "timestamp": 1713908870301,
     "user": {
      "displayName": "Haoran Cai",
      "userId": "03390233365753616413"
     },
     "user_tz": -120
    },
    "id": "JMnfSUvgr0Ea"
   },
   "outputs": [],
   "source": [
    "#this code imports several important libraries for our modeling of population growth\n",
    "import numpy as np\n",
    "import matplotlib.pyplot as plt\n",
    "from matplotlib import rc"
   ]
  },
  {
   "cell_type": "code",
   "execution_count": null,
   "metadata": {
    "executionInfo": {
     "elapsed": 328,
     "status": "ok",
     "timestamp": 1713908874897,
     "user": {
      "displayName": "Haoran Cai",
      "userId": "03390233365753616413"
     },
     "user_tz": -120
    },
    "id": "gQOYFSSdd-C_"
   },
   "outputs": [],
   "source": [
    "#this code designates 5 important parameters (defined below!)\n",
    "\n",
    "#keep these variables constant for now (you'll get to adjust parameters for the logistic map)!\n",
    "modeltype = 2 #type of growth model: 2 = logistic\n",
    "N0 = 1; #initial population size\n",
    "r = 2; #intrinsic population growth rate\n",
    "K = 100; #carrying capacity [only pertains to logistic]\n",
    "t_max = 200; #number of generations\n",
    "\n",
    "#this code defines \"storage variables\" used in the If statements for simulating population growth below\n",
    "generation = np.linspace(0, t_max, t_max + 1)\n",
    "dNdt = np.zeros_like(generation)\n",
    "population = np.zeros_like(generation)\n",
    "\n",
    "#this code runs an If statement that selects the appropriate growth model\n",
    "if modeltype == 1:   # run the exponential growth model\n",
    "    for i in range(1, len(generation)):\n",
    "        if i == 1:   # The generation has population = N0\n",
    "            population[i] = N0\n",
    "            dNdt[i] = r * population[i]\n",
    "        else:\n",
    "            population[i] = population[i - 1] + dNdt[i - 1]\n",
    "            dNdt[i] = r * population[i]\n",
    "\n",
    "elif modeltype == 2:   # run the logistic growth model\n",
    "    for i in range(1, len(generation)):\n",
    "        if i == 1:\n",
    "            population[i] = N0\n",
    "            dNdt[i] = r * population[i] * (1 - population[i] / K)\n",
    "        else:\n",
    "            population[i] = population[i - 1] + dNdt[i - 1]\n",
    "            dNdt[i] = r * population[i] * (1 - population[i] / K)\n",
    "\n",
    "else:\n",
    "    print('Error: Choose 1 for exponential model or 2 for logistic model')"
   ]
  },
  {
   "cell_type": "markdown",
   "metadata": {
    "id": "ZfAQ5hRgr0Ec"
   },
   "source": [
    "## Visualization\n",
    "The graphs output by the code cell below shows simulations of logistic population growth over 200 generations in 3 different plots:\n",
    "1. population size (N) as a function of generations (t)\n",
    "2. dN/dt as a function of population size (N)\n",
    "3. per capita growth rate ((dN/dt)/N) as a function of population size (N)\n",
    "\n",
    "###  You do not need to alter any of the code within this block, just click the “Run” button to view your graph. You can save the output graph from a run by opening the image in a new tab."
   ]
  },
  {
   "cell_type": "code",
   "execution_count": null,
   "metadata": {
    "colab": {
     "base_uri": "https://localhost:8080/",
     "height": 1000
    },
    "executionInfo": {
     "elapsed": 3268,
     "status": "ok",
     "timestamp": 1713908880723,
     "user": {
      "displayName": "Haoran Cai",
      "userId": "03390233365753616413"
     },
     "user_tz": -120
    },
    "id": "Yny2gNcOd-DB",
    "outputId": "476dda38-08c0-4868-f5b4-e904667ba97e"
   },
   "outputs": [],
   "source": [
    "#this code sets some formatting for the graphs you'll output below!\n",
    "#set plot resolution\n",
    "%config InlineBackend.figure_format = 'retina'\n",
    "\n",
    "#set default figure parameters\n",
    "plt.rcParams['figure.figsize'] = (20,5) #figure size (length, height) in inches\n",
    "\n",
    "small_size = 9\n",
    "medium_size = 12\n",
    "large_size = 15\n",
    "\n",
    "plt.rc('font', size=medium_size)          # default text sizes\n",
    "plt.rc('xtick', labelsize=small_size)     # xtick labels\n",
    "plt.rc('ytick', labelsize=small_size)     # ytick labels\n",
    "plt.rc('legend', fontsize=medium_size)    # legend\n",
    "plt.rc('axes', titlesize=large_size)      # axes title\n",
    "plt.rc('axes', labelsize=large_size)      # x and y labels\n",
    "plt.rc('figure', titlesize=small_size)    # figure title\n",
    "\n",
    "#generate plots\n",
    "plt.figure(1)\n",
    "plt.plot(generation, population)\n",
    "plt.xlabel('Generation (t)')\n",
    "plt.ylabel('Population Size (N)')\n",
    "plt.title('Population Size Over Generations')\n",
    "\n",
    "# Note that with the logistic model you might get multiple growth\n",
    "# rate values for the same population size (which makes sense because\n",
    "# the population's growth rate depends both on its current size and previous size).\n",
    "# This results in some pretty spirals...\n",
    "\n",
    "plt.figure(2)\n",
    "plt.plot(population, dNdt)\n",
    "plt.xlabel('Population Size (N)')\n",
    "plt.ylabel('dN/dt')\n",
    "plt.title('dN/dt as a function of Population Size (N)')\n",
    "\n",
    "plt.figure(3)\n",
    "plt.plot(population, dNdt/population)\n",
    "plt.xlabel('Population Size (N)')\n",
    "plt.ylabel('Per Capita Growth Rate ((dN/dt)/N)')\n",
    "plt.title('Per Capita Growth Rate')\n",
    "plt.show()\n"
   ]
  },
  {
   "cell_type": "markdown",
   "metadata": {
    "id": "w9S6kGnP5MIc"
   },
   "source": [
    "### Context\n",
    "In some cases, the population size converges to an attractive fixed point (the carrying capacity) or diverges to infinity. In some cases, the population size appears to do neither and instead displays oscillation. Let's take a look at this oscillation behavior using the logistic map model.\n",
    "\n",
    "\n",
    "**Logistic map equation:**\n",
    "\n",
    "$$ N_{t+1} = r N_t (1-N_t) $$"
   ]
  },
  {
   "cell_type": "code",
   "execution_count": null,
   "metadata": {
    "executionInfo": {
     "elapsed": 353,
     "status": "ok",
     "timestamp": 1713909021184,
     "user": {
      "displayName": "Haoran Cai",
      "userId": "03390233365753616413"
     },
     "user_tz": -120
    },
    "id": "Ps7kShmB-rIj"
   },
   "outputs": [],
   "source": [
    "#this code defines the logistic map function\n",
    "def f(x, r):\n",
    "    return r*x*(1-x)\n",
    "\n",
    "#this code defines the plot_cobweb function, which we'll use to visualize cobweb plots generated via the logistic map equation\n",
    "def plot_cobweb(f, r, N0, tmax=t_max):\n",
    "    \"\"\"A cobweb plot.\n",
    "\n",
    "    Plot y = f(x; r) and y = x for 0 <= x <= 1, and illustrate the behaviour of\n",
    "    iterating x = f(x) starting at N = N0. r is a parameter to the function.\n",
    "\n",
    "    \"\"\"\n",
    "    dpi = 100\n",
    "    x = np.linspace(0, 1, 500)\n",
    "    fig = plt.figure(figsize=(600/dpi, 450/dpi), dpi=dpi)\n",
    "    ax = fig.add_subplot(111)\n",
    "\n",
    "    # Plot y = f(x) and y =  y = f(x; r)\n",
    "    ax.plot(x, f(x, r), c='#444444', lw=2)\n",
    "    ax.plot(x, x, c='#444444', lw=2)\n",
    "\n",
    "    # Iterate x = f(x) for nmax steps, starting at (N0, 0).\n",
    "    px, py = np.empty((2,tmax+1,2))\n",
    "    px[0], py[0] = N0, 0\n",
    "    for t in range(1, tmax, 2):\n",
    "        px[t] = px[t-1]\n",
    "        py[t] = f(px[t-1], r)\n",
    "        px[t+1] = py[t]\n",
    "        py[t+1] = py[t]\n",
    "\n",
    "    # Plot the path traced out by the iteration.\n",
    "    ax.plot(px, py, c='b', alpha=0.7)\n",
    "\n",
    "    # Annotate and tidy the plot.\n",
    "    ax.minorticks_on()\n",
    "    ax.grid(which='minor', alpha=0.5)\n",
    "    ax.grid(which='major', alpha=0.5)\n",
    "    ax.set_aspect('equal')\n",
    "    ax.set_xlabel('$N$')\n",
    "    ax.set_ylabel('$f(N)$')\n",
    "    ax.set_title('$N_0 = {:.1}, r = {:.3}$'.format(N0, r))"
   ]
  },
  {
   "cell_type": "markdown",
   "metadata": {
    "id": "kVXMwGT4r0Ed"
   },
   "source": [
    "### Code/Parameters We Invite You To Adjust!\n",
    "\n",
    "### We encourage you to adjust the numbers for the following variable in the code below:\n",
    "\n",
    "1. **r** (default 1) - this is the intrinsic population growth rate. Try adjusting this value to any number between 1 and 4.\n",
    "\n",
    "Experiment with the plot_cobweb function by increasing the intrinsic growth rate r.\n",
    "\n",
    "### Each time you would like to run a new simulation, change the values of the variable(s) of interest and run the code cell below, and then rerun the following code cell outputting the graph (in the next section) to visualize the effects of the changing parameters."
   ]
  },
  {
   "cell_type": "code",
   "execution_count": null,
   "metadata": {
    "executionInfo": {
     "elapsed": 1,
     "status": "ok",
     "timestamp": 1713909023171,
     "user": {
      "displayName": "Haoran Cai",
      "userId": "03390233365753616413"
     },
     "user_tz": -120
    },
    "id": "WV4PFKDjr0Ee"
   },
   "outputs": [],
   "source": [
    "#this code designates 3 important parameters (defined below!)\n",
    "\n",
    "#try out different values for r (intrinsic growth rate)\n",
    "r = 2.0; #intrinsic population growth rate (default is 2.0; try adjusting!)\n",
    "\n",
    "#keep these variables constant for now!\n",
    "N0 = 0.20; #initial population size\n",
    "t_max = 200; #number of generations"
   ]
  },
  {
   "cell_type": "markdown",
   "metadata": {
    "id": "BCj8WNlzr0Ee"
   },
   "source": [
    "## Visualization\n",
    "The graphs output by the code cell below shows simulations of logistic map growth over 200 generations in 2 different plots:\n",
    "1. population size (N) as a function of generations (t)\n",
    "2. cobweb plot\n",
    "\n",
    "###  You do not need to alter any of the code within this block, just click the “Run” button to view your graph. You can save the output graph from a run by opening the image in a new tab."
   ]
  },
  {
   "cell_type": "code",
   "execution_count": null,
   "metadata": {
    "colab": {
     "base_uri": "https://localhost:8080/",
     "height": 934
    },
    "executionInfo": {
     "elapsed": 1145,
     "status": "ok",
     "timestamp": 1713909025905,
     "user": {
      "displayName": "Haoran Cai",
      "userId": "03390233365753616413"
     },
     "user_tz": -120
    },
    "id": "YPZeBB87OEAF",
    "outputId": "6eb0f51a-a1e6-4966-9e15-350b572dec9f"
   },
   "outputs": [],
   "source": [
    "#this code defines \"storage variables\" for simulating population growth below\n",
    "generation = np.linspace(0, t_max, t_max + 1)\n",
    "population = np.zeros_like(generation)\n",
    "population[0] = N0\n",
    "\n",
    "#set default figure parameters\n",
    "plt.rcParams['figure.figsize'] = (20,5) #figure size (length, height) in inches\n",
    "\n",
    "small_size = 9\n",
    "medium_size = 12\n",
    "large_size = 15\n",
    "\n",
    "plt.rc('font', size=medium_size)          # default text sizes\n",
    "plt.rc('xtick', labelsize=small_size)     # xtick labels\n",
    "plt.rc('ytick', labelsize=small_size)     # ytick labels\n",
    "plt.rc('legend', fontsize=medium_size)    # legend\n",
    "plt.rc('axes', titlesize=large_size)      # axes title\n",
    "plt.rc('axes', labelsize=large_size)      # x and y labels\n",
    "plt.rc('figure', titlesize=small_size)    # figure title\n",
    "\n",
    "for i in range(1, len(generation)):\n",
    "    population[i] = f(population[i-1],r)\n",
    "\n",
    "plt.rc('font', size=20)\n",
    "plt.plot(generation, population) #plot population size over time\n",
    "plt.xlabel('Generation (t)')\n",
    "plt.ylabel('Population Size (N)')\n",
    "plt.title('Population Size Over Generations')\n",
    "plt.show()\n",
    "plot_cobweb(f, r, N0) #plot cobweb plot"
   ]
  }
 ],
 "metadata": {
  "colab": {
   "provenance": []
  },
  "kernelspec": {
   "display_name": "Python 3",
   "language": "python",
   "name": "python3"
  },
  "language_info": {
   "codemirror_mode": {
    "name": "ipython",
    "version": 3
   },
   "file_extension": ".py",
   "mimetype": "text/x-python",
   "name": "python",
   "nbconvert_exporter": "python",
   "pygments_lexer": "ipython3",
   "version": "3.8.5"
  }
 },
 "nbformat": 4,
 "nbformat_minor": 5
}

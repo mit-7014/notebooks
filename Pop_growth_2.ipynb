{
 "cells": [
  {
   "cell_type": "markdown",
   "metadata": {
    "id": "I6bkNGJXd-C7"
   },
   "source": [
    "## Population Growth Exercise 2: Modeling Populations in Discrete Time\n",
    "\n",
    "### Context\n",
    "Population growth can be more complicated than what we saw in Exercise 1. For example, population growth in some cases can **\"overshoot\"** or surpass the carrying capacity (K), depending upon the paramters in the logistic growth model.\n",
    "\n",
    "In this exercise, we will explore a simple but important assumption used to model population growth. The previous exercise used calculus to model the **instantaneous** rate of change of populations. In reality, most populations reproduce in **discrete** generations, which can lead to interesting dynamics over time.\n",
    "\n",
    "By considering population growth in \"discrete time\", we can see how populations grow, reach carrying capacity, and potentially overshoot the carrying capacity. It also showcases how seemingly predictable systems can exhibit unpredictable behavior due to a range of realistic conditions experienced in nature."
   ]
  },
  {
   "cell_type": "markdown",
   "metadata": {
    "id": "R8Y-m2Grr0Ea"
   },
   "source": [
    "<h3>Running Code Cells</h3>\n",
    "If you've never used a Jupyter notebook on Google Colab before, here's a quick orientation:\n",
    "\n",
    "Below are code cells containing Python code below that you will want to run.\n",
    "\n",
    "You can run code cells individually in Colab by:\n",
    "- clicking on a code cell and hitting the \"Run\" button (depicted as the \"play\" arrow icon) to the top left of the cell\n",
    "- clicking on a code cell and hitting Cmd/Ctrl+Enter/Return\n",
    "\n",
    "You can run all code cells in this notebook in Colab by:\n",
    "- clicking on \"Runtime\" in the top navigation bar and select \"Run all\"\n",
    "\n",
    "You can edit code within a code cell by clicking into it and then deleting/typing text\n",
    "\n",
    "### Run the following code cell below to import the libraries needed to run the simulation!"
   ]
  },
  {
   "cell_type": "code",
   "execution_count": null,
   "metadata": {
    "executionInfo": {
     "elapsed": 1,
     "status": "ok",
     "timestamp": 1713908870301,
     "user": {
      "displayName": "Haoran Cai",
      "userId": "03390233365753616413"
     },
     "user_tz": -120
    },
    "id": "JMnfSUvgr0Ea"
   },
   "outputs": [],
   "source": [
    "#this code imports several important libraries for our modeling of population growth\n",
    "import numpy as np\n",
    "import matplotlib.pyplot as plt\n",
    "from matplotlib import rc"
   ]
  },
  {
   "cell_type": "code",
   "execution_count": null,
   "metadata": {
    "executionInfo": {
     "elapsed": 328,
     "status": "ok",
     "timestamp": 1713908874897,
     "user": {
      "displayName": "Haoran Cai",
      "userId": "03390233365753616413"
     },
     "user_tz": -120
    },
    "id": "gQOYFSSdd-C_"
   },
   "outputs": [],
   "source": [
    "#this code designates 5 important parameters (defined below!)\n",
    "\n",
    "#keep these variables constant for now (you'll adjust variables for the logistic map function later)!\n",
    "modeltype = 2 #type of growth model: 2 = logistic\n",
    "r = 2.0; #intrinsic population growth rate (default is 2.0; try adjusting!)\n",
    "N0 = 1; #initial population size\n",
    "K = 100; #carrying capacity [only pertains to logistic]\n",
    "t_max = 200; #number of generations\n",
    "\n",
    "#this code defines \"storage variables\" used in the If statements for simulating population growth below\n",
    "generation = np.linspace(0, t_max, t_max + 1)\n",
    "dNdt = np.zeros_like(generation)\n",
    "population = np.zeros_like(generation)\n",
    "\n",
    "#this code runs an If statement that selects the appropriate growth model\n",
    "if modeltype == 1:   # run the exponential growth model\n",
    "    for i in range(1, len(generation)):\n",
    "        if i == 1:   # The generation has population = N0\n",
    "            population[i] = N0\n",
    "            dNdt[i] = r * population[i]\n",
    "        else:\n",
    "            population[i] = population[i - 1] + dNdt[i - 1]\n",
    "            dNdt[i] = r * population[i]\n",
    "\n",
    "elif modeltype == 2:   # run the logistic growth model\n",
    "    for i in range(1, len(generation)):\n",
    "        if i == 1:\n",
    "            population[i] = N0\n",
    "            dNdt[i] = r * population[i] * (1 - population[i] / K)\n",
    "        else:\n",
    "            population[i] = population[i - 1] + dNdt[i - 1]\n",
    "            dNdt[i] = r * population[i] * (1 - population[i] / K)\n",
    "\n",
    "else:\n",
    "    print('Error: Choose 1 for exponential model or 2 for logistic model')"
   ]
  },
  {
   "cell_type": "markdown",
   "metadata": {
    "id": "ZfAQ5hRgr0Ec"
   },
   "source": [
    "## Visualization\n",
    "The graphs output by the code cell below shows simulations of logistic population growth over 200 generations in 3 different plots:\n",
    "1. population size (N) as a function of generations (t)\n",
    "2. dN/dt as a function of population size (N)\n",
    "3. per capita growth rate ((dN/dt)/N) as a function of population size (N)\n",
    "\n",
    "###  You do not need to alter any of the code within this block, just click the “Run” button to view your graph. You can save the output graph from a run by opening the image in a new tab."
   ]
  },
  {
   "cell_type": "code",
   "execution_count": null,
   "metadata": {
    "colab": {
     "base_uri": "https://localhost:8080/",
     "height": 1000
    },
    "executionInfo": {
     "elapsed": 3268,
     "status": "ok",
     "timestamp": 1713908880723,
     "user": {
      "displayName": "Haoran Cai",
      "userId": "03390233365753616413"
     },
     "user_tz": -120
    },
    "id": "Yny2gNcOd-DB",
    "outputId": "476dda38-08c0-4868-f5b4-e904667ba97e"
   },
   "outputs": [],
   "source": [
    "#this code sets some formatting for the graphs you'll output below!\n",
    "#set plot resolution\n",
    "%config InlineBackend.figure_format = 'retina'\n",
    "\n",
    "#set default figure parameters\n",
    "plt.rcParams['figure.figsize'] = (20,5) #figure size (length, height) in inches\n",
    "\n",
    "small_size = 9\n",
    "medium_size = 12\n",
    "large_size = 15\n",
    "\n",
    "plt.rc('font', size=medium_size)          # default text sizes\n",
    "plt.rc('xtick', labelsize=small_size)     # xtick labels\n",
    "plt.rc('ytick', labelsize=small_size)     # ytick labels\n",
    "plt.rc('legend', fontsize=medium_size)    # legend\n",
    "plt.rc('axes', titlesize=large_size)      # axes title\n",
    "plt.rc('axes', labelsize=large_size)      # x and y labels\n",
    "plt.rc('figure', titlesize=small_size)    # figure title\n",
    "\n",
    "#generate plots\n",
    "plt.figure(1)\n",
    "plt.plot(generation, population)\n",
    "plt.xlabel('Generation (t)')\n",
    "plt.ylabel('Population Size (N)')\n",
    "plt.title('Population Size Over Generations')\n",
    "\n",
    "# Note that with the logistic model you might get multiple growth\n",
    "# rate values for the same population size (which makes sense because\n",
    "# the population's growth rate depends both on its current size and previous size).\n",
    "# This results in some pretty spirals...\n",
    "\n",
    "plt.figure(2)\n",
    "plt.plot(population, dNdt)\n",
    "plt.xlabel('Population Size (N)')\n",
    "plt.ylabel('dN/dt')\n",
    "plt.title('dN/dt as a function of Population Size (N)')\n",
    "\n",
    "plt.figure(3)\n",
    "plt.plot(population, dNdt / population)\n",
    "plt.xlabel('Population Size (N)')\n",
    "plt.ylabel('Per Capita Growth Rate ((dN/dt)/N)')\n",
    "plt.title('Per Capita Growth Rate')\n",
    "plt.show()\n"
   ]
  }
 ],
 "metadata": {
  "colab": {
   "provenance": []
  },
  "kernelspec": {
   "display_name": "Python 3",
   "language": "python",
   "name": "python3"
  },
  "language_info": {
   "codemirror_mode": {
    "name": "ipython",
    "version": 3
   },
   "file_extension": ".py",
   "mimetype": "text/x-python",
   "name": "python",
   "nbconvert_exporter": "python",
   "pygments_lexer": "ipython3",
   "version": "3.8.5"
  }
 },
 "nbformat": 4,
 "nbformat_minor": 5
}

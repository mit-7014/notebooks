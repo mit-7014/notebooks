{
 "cells": [
  {
   "cell_type": "markdown",
   "metadata": {},
   "source": [
    "## Population Growth Exercise 3: Virtual Fishery\n",
    "\n",
    "### Context\n",
    "Fishery management relies on understanding how fish populations change over time. This field of study, called fishery population dynamics, considers factors like birth rates, growth, death (from fishing and natural causes), and movement of fish. By analyzing these dynamics, scientists can explain fluctuations in fish populations and predict the effects of threats like habitat loss, predation, and fishing pressure. Ultimately, fishery population dynamics helps determine how much fish can be sustainably harvested from a population.\n",
    "\n",
    "\n",
    "Similar to the models before with logistic and exponential growth, we provide you with two ways of exploring population dynamics in a virtual fishery.\n",
    "\n",
    "You can use the following code, which constructs a simple fishery, simulating some of the data and decisions a fishery manager would have to think about. The harvest input parameter, H, has been set to 0 (but you can set H to anything you like to see what happens to the fish population). See the #comments to identify the other purposes of various parts in the code. \n",
    "\n",
    "This code simulates a very simplistic fishery. All the fish are in one place, and you can choose to harvest as many as you want.\n",
    "\n",
    "Can you manage the fishery sustainably?\n",
    "\n",
    "Imagine a fishery where the fish population grows logistically according to the equation:\n",
    "\n",
    "$$\n",
    "    \\frac{dN}{dt} = rN(1-N/K)\n",
    "$$\n",
    "\n",
    "where:    \n",
    "            \n",
    "           N = number of fish\n",
    "\n",
    "           t = time\n",
    "           \n",
    "           r = population growth rate\n",
    "           \n",
    "           K = carrying capacity\n",
    "\n",
    "Now, we will introduce a harvest term, H, which is the number of fish humans remove from the population by fishing:\n",
    "\n",
    "$$\n",
    "\\frac{dN}{dt} = rN(1-N/K) - H\n",
    "$$\n",
    "\n",
    "\n",
    "Managers are often tasked with choosing this \"H\" so that the fishery is sustainable -- that is, so that the number of fish does not change from year to year. With a bit of algebra or calculus, you can arrive at the correct choice for H, or you can play with the simulation below."
   ]
  },
  {
   "cell_type": "markdown",
   "metadata": {},
   "source": [
    "<h3>Running Code Cells</h3>\n",
    "If you've never used a Jupyter notebook on Google Colab before, here's a quick orientation:\n",
    "\n",
    "Below are code cells containing Python code below that you will want to run.\n",
    "\n",
    "You can run code cells individually in Colab by:\n",
    "- clicking on a code cell and hitting the \"Run\" button (depicted as the \"play\" arrow icon) to the top left of the cell\n",
    "- clicking on a code cell and hitting Cmd/Ctrl+Enter/Return\n",
    "\n",
    "You can run all code cells in this notebook in Colab by:\n",
    "- clicking on \"Runtime\" in the top navigation bar and select \"Run all\"\n",
    "\n",
    "You can edit code within a code cell by clicking into it and then deleting/typing text\n",
    "\n",
    "### Run the following code cell below to import the libraries needed to run the simulation!"
   ]
  },
  {
   "cell_type": "code",
   "execution_count": null,
   "metadata": {},
   "outputs": [],
   "source": [
    "#this code imports several important libraries for our modeling of population growth\n",
    "import numpy as np\n",
    "import matplotlib.pyplot as plt"
   ]
  },
  {
   "cell_type": "markdown",
   "metadata": {},
   "source": [
    "### Code/Parameters We Invite You To Adjust!\n",
    "\n",
    "### We encourage you to adjust the numbers for the following 3 variables in the code below: \n",
    "\n",
    "1. **r** (default 0.1) - this is the intrinsic population growth rate. \n",
    "\n",
    "2. **K** (default 100 individuals) - this is the carrying capacity of the environment your population is in.\n",
    "\n",
    "3. **H** (default 1) - this is the harvest rate. \n",
    "\n",
    "You can adjust the initial population size (N0), the growth rate (r) and carrying capacity of the environment (K).\n",
    "\n",
    "### Each time you would like to run a new simulation, change the values of the variable(s) of interest and run the code cell below, and then rerun the following code cell outputting the graph (in the next section) to visualize the effects of the changing parameters."
   ]
  },
  {
   "cell_type": "code",
   "execution_count": null,
   "metadata": {},
   "outputs": [],
   "source": [
    "#this code designates 5 important parameters (defined below!)\n",
    "\n",
    "#try out different values for r (growth rate), K (carrying capacity), and H (harvest rate)!\n",
    "r = 0.1 #Fish population growth rate\n",
    "K = 100 #Fish carrying capacity\n",
    "H = 1  #Fish harvest rate\n",
    "\n",
    "#keep these variables constant for now!\n",
    "N0 = K/2 #Fish initial population size\n",
    "t = 100  #We'll let this run for a long time to see how you did\n",
    "\n",
    "#this code defines \"storage variables\" used in the If statements for simulating population growth below\n",
    "time = np.linspace(0, t, t+1)\n",
    "population = np.zeros_like(time)\n",
    "harvest = np.zeros_like(time)\n",
    "\n",
    "#this code runs an If statement that simulates the modified logistic growth model\n",
    "for i in range(len(time)):\n",
    "    if i == 0:\n",
    "        population[i] = N0\n",
    "        harvest[i] = H\n",
    "    else:\n",
    "        population[i] = population[i-1] + (r*population[i-1]*(1-population[i-1]/K)-harvest[i-1])\n",
    "        if population[i] > H:\n",
    "            harvest[i] = H\n",
    "        else:\n",
    "            harvest[i] = population[i]"
   ]
  },
  {
   "cell_type": "markdown",
   "metadata": {},
   "source": [
    "## Visualization\n",
    "The graph output by the code cell below shows a simulation of logistic population growth (with harvesting) of your fishery over 100 years. \n",
    "\n",
    "###  You do not need to alter any of the code within this block, just click the “Run” button to view your graph. You can save the output graph from a run by opening the image in a new tab."
   ]
  },
  {
   "cell_type": "code",
   "execution_count": null,
   "metadata": {},
   "outputs": [],
   "source": [
    "#this code sets some formatting for the graph you'll output below!\n",
    "#set plot resolution\n",
    "%config InlineBackend.figure_format = 'retina'\n",
    "\n",
    "#set default figure parameters\n",
    "plt.rcParams['figure.figsize'] = (20,5) #figure size (length, height) in inches\n",
    "\n",
    "small_size = 9\n",
    "medium_size = 12\n",
    "large_size = 15\n",
    "\n",
    "plt.rc('font', size=medium_size)          # default text sizes\n",
    "plt.rc('xtick', labelsize=small_size)     # xtick labels\n",
    "plt.rc('ytick', labelsize=small_size)     # ytick labels\n",
    "plt.rc('legend', fontsize=medium_size)    # legend\n",
    "plt.rc('axes', titlesize=large_size)      # axes title\n",
    "plt.rc('axes', labelsize=large_size)      # x and y labels\n",
    "plt.rc('figure', titlesize=small_size)    # figure title\n",
    "\n",
    "#generate plot\n",
    "plt.figure(2)\n",
    "plt.plot(time, population)\n",
    "plt.xlabel('Time (years)')\n",
    "plt.ylabel('Fish Population Size')\n",
    "plt.show()\n",
    "\n",
    "# Explore: What happens if you \"overfish\" (i.e. H is too large)?\n",
    "# What happens if your fish population is destabilized (i.e., somehow your initial population gets bumped below K/2)?"
   ]
  }
 ],
 "metadata": {
  "kernelspec": {
   "display_name": "Python 3",
   "language": "python",
   "name": "python3"
  },
  "language_info": {
   "codemirror_mode": {
    "name": "ipython",
    "version": 3
   },
   "file_extension": ".py",
   "mimetype": "text/x-python",
   "name": "python",
   "nbconvert_exporter": "python",
   "pygments_lexer": "ipython3",
   "version": "3.8.5"
  }
 },
 "nbformat": 4,
 "nbformat_minor": 4
}

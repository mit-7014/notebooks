{
 "cells": [
  {
   "cell_type": "markdown",
   "metadata": {},
   "source": [
    "## Population Genetics Exercise 2: Modeling Genetic Drift Caused By Bottleneck\n",
    "\n",
    "### Context\n",
    "The zygotes (cells resulting from the combination of one egg gamete and one sperm gamete) of one generation are formed from a sub-sampling of gametes from the parental population. This sub-sample inevitably is an imperfect representation of the alleles found in the parental population. **This sampling error results in chance fluctuations in allele frequency across generations, known as genetic drift.**\n",
    "\n",
    "Genetic drift is one of the five forces that can cause evolutionary change - the loss (where the allele frequency becomes 0) versus fixation (the allele frequency becomes 1) of an allele can be caused by genetic drift. \n",
    "\n",
    "Continuing our hypothetical example from Exercise 1, we are considering two different alleles (designated A and a) for one gene. The A allele encodes a dominant phenotype of interest, while the a allele encodes a recessive phenotype of interest. We are looking at the change in the allele frequency of the ***selectively neutral* allele A** (designated as the variable p) in a population that undergoes a **bottleneck event (where the population size is dramatically reduced)**.\n",
    "\n",
    "**Reminder:** selectively neutral here means there is no selective advantage or disadvantage to an organism with the allele A."
   ]
  },
  {
   "cell_type": "markdown",
   "metadata": {},
   "source": [
    "<h3>Running Code Cells</h3>\n",
    "If you've never used a Jupyter notebook on Google Colab before, here's a quick orientation:\n",
    "\n",
    "Below are code cells containing Python code below that you will want to run. \n",
    "\n",
    "You can run code cells individually in Colab by: \n",
    "- clicking on a code cell and hitting the \"Run\" button (depicted as the \"play\" arrow icon) to the top left of the cell\n",
    "- clicking on a code cell and hitting Cmd/Ctrl+Enter/Return\n",
    "\n",
    "You can run all code cells in this notebook in Colab by:\n",
    "- clicking on \"Runtime\" in the top navigation bar and select \"Run all\"\n",
    "\n",
    "You can edit code within a code cell by clicking into it and then deleting/typing text\n",
    "\n",
    "### Run the following code cell below to import the libraries needed to run the simulation!"
   ]
  },
  {
   "cell_type": "code",
   "execution_count": null,
   "metadata": {},
   "outputs": [],
   "source": [
    "#this code imports several important libraries for our modeling of genetic drift caused by a bottleneck\n",
    "import numpy as np\n",
    "import matplotlib\n",
    "import matplotlib.pyplot as plt\n",
    "from matplotlib.patches import Rectangle"
   ]
  },
  {
   "cell_type": "markdown",
   "metadata": {},
   "source": [
    "# Code/Parameters We Invite You To Adjust!\n",
    "\n",
    "### We encourage you to adjust the numbers for the following 2 variables in the code below:\n",
    "\n",
    "1. **N** (default 500 individuals) - this indicates the effective population size. Try adjusting this value to any number between 500 and 2000 individuals.\n",
    "\n",
    "2. **bottleneck_size** (default 100 individuals) - this indicates the size the population is reduced to during the bottleneck event. Try adjusting this value to any number between 5 and 100 individuals. \n",
    "\n",
    "You can adjust the strength of genetic drift caused by a bottleneck event (by changing N, the initial population size, as well as bottleneck_size, the size the population is reduced to during the bottleneck event).\n",
    "\n",
    "### Each time you would like to run a new simulation, change the values of the variable(s) of interest and run the code cell below, and then rerun the following code cell outputting the graphs (in the next section) to visualize the effects of the changing parameters. "
   ]
  },
  {
   "cell_type": "code",
   "execution_count": null,
   "metadata": {},
   "outputs": [],
   "source": [
    "#this code designates 7 important parameters (defined below!)\n",
    "\n",
    "#try out different values for N and bottleneck_size!\n",
    "N = 500  # Initial effective population size (default is 500; try adjusting!)\n",
    "bottleneck_size = 100  #size of population during the bottleneck (default is 100; try adjusting!)\n",
    "\n",
    "#keep these variables constant for now!\n",
    "p_init = 0.2 #starting allele frequency of the selectively neutral allele A \n",
    "replicates = 10 #number of populations simulated \n",
    "ngen = 200 # number of generations simulated \n",
    "bottleneck_generations_start = 40 #the generation when the botteneck event starts  \n",
    "bottleneck_generations_end = 50 #the generation when the botteneck event ends\n",
    "\n",
    "#this code defines a function (drift_sim_with_bottleneck) that we will use to visualize genetic drift with a bottleneck\n",
    "def drift_sim_with_bottleneck(N, p, ngen, bottleneck_generations_start,bottleneck_generaitons_end, bottleneck_size):\n",
    "    # initialize p\n",
    "    p_init = p\n",
    "    pvec = [p]\n",
    "    for gen in range(ngen):\n",
    "        # Apply bottleneck if within bottleneck generations\n",
    "        if (gen > bottleneck_generations_start) & (gen < bottleneck_generations_end):\n",
    "            N_bottleneck = bottleneck_size\n",
    "        else:\n",
    "            N_bottleneck = N\n",
    "        \n",
    "        # Genetic drift within the population\n",
    "        pA = np.random.binomial(2*N_bottleneck, p)\n",
    "        p = pA / (2*N_bottleneck)\n",
    "        pvec.append(p)\n",
    "    \n",
    "    return pvec"
   ]
  },
  {
   "cell_type": "markdown",
   "metadata": {},
   "source": [
    "## Visualization \n",
    "\n",
    "The graph output by the code cell below shows simulations (each line represents a replicate population) of how a bottleneck event can act on the allele frequency of a selectively neutral allele over 200 generations.  \n",
    "\n",
    "The bottleneck event (where population size abruptly shrinks in generations 40-50) is indicated by a red rectangle. \n",
    "\n",
    "### You do not need to alter any of the code within this block, just click the “Run” button to view your graph. You can save the output graph from a run by opening the image in a new tab. "
   ]
  },
  {
   "cell_type": "code",
   "execution_count": null,
   "metadata": {},
   "outputs": [],
   "source": [
    "#this code sets some formatting for the graph you'll output below!\n",
    "#set plot resolution\n",
    "%config InlineBackend.figure_format = 'retina'\n",
    "\n",
    "#set default figure parameters\n",
    "plt.rcParams['figure.figsize'] = (10,5) #figure size (length, height) in inches\n",
    "\n",
    "small_size = 9 \n",
    "medium_size = 12\n",
    "large_size = 15 \n",
    "\n",
    "plt.rc('font', size=medium_size)          # default text sizes\n",
    "plt.rc('xtick', labelsize=medium_size)    # xtick labels\n",
    "plt.rc('ytick', labelsize=medium_size)    # ytick labels\n",
    "plt.rc('legend', fontsize=medium_size)    # legend\n",
    "plt.rc('axes', titlesize=large_size)      # axes title\n",
    "plt.rc('axes', labelsize=large_size)      # x and y labels\n",
    "plt.rc('figure', titlesize=large_size)    # figure title\n",
    "\n",
    "#this code plots the results from running the drift_sim_with_bottleneck function as a graph!\n",
    "for i in range(replicates):\n",
    "    plt.plot(np.linspace(0, ngen, ngen+1), drift_sim_with_bottleneck(N, p_init, ngen, bottleneck_generations_start,bottleneck_generations_end, bottleneck_size)) \n",
    "\n",
    "rect = Rectangle((bottleneck_generations_start, 0), bottleneck_generations_end - bottleneck_generations_start, 1, linewidth=1, edgecolor='black', facecolor='r', alpha=0.3)\n",
    "plt.gca().add_patch(rect)\n",
    "plt.title(\"Genetic Drift By Bottleneck\")\n",
    "plt.xlabel(\"Generations (ngen)\")\n",
    "plt.ylabel(\"Allele frequency of A (p)\")\n",
    "plt.grid()\n",
    "plt.show()"
   ]
  }
 ],
 "metadata": {
  "kernelspec": {
   "display_name": "Python 3",
   "language": "python",
   "name": "python3"
  },
  "language_info": {
   "codemirror_mode": {
    "name": "ipython",
    "version": 3
   },
   "file_extension": ".py",
   "mimetype": "text/x-python",
   "name": "python",
   "nbconvert_exporter": "python",
   "pygments_lexer": "ipython3",
   "version": "3.8.5"
  }
 },
 "nbformat": 4,
 "nbformat_minor": 4
}

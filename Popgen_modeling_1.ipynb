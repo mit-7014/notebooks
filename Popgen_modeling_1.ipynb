{
 "cells": [
  {
   "cell_type": "markdown",
   "metadata": {
    "id": "qG5etMr1V3av"
   },
   "source": [
    "## Population Genetics Exercise 1: Modeling Genetic Drift\n",
    "\n",
    "### Context\n",
    "The zygotes (cells resulting from the combination of one egg gamete and one sperm gamete) of one generation are formed from a sub-sampling of gametes from the parental population. This sub-sample inevitably is an imperfect representation of the alleles found in the parental population. **This sampling error results in chance fluctuations in allele frequency across generations, known as genetic drift.**\n",
    "\n",
    "Genetic drift is one of the five forces that can cause evolutionary change - the loss (where the allele frequency becomes 0) versus fixation (the allele frequency becomes 1) of an allele can be caused by genetic drift.\n",
    "\n",
    "For this exercise (and all other exercises), we'll consider a hypothetical gene with two different alleles designated A and a. The A allele encodes a dominant phenotype of interest, while the a allele encodes a recessive phenotype of interest.\n",
    "\n",
    "Quantitatively, we can think of the drawing of the alleles A and a for our hypothetical gene in gametes as Bernoulli binomial sampling, so the expected change in the allele frequency of a ***selectively neutral* allele A** (which we will designate in the code below as the variable p) corresponds to the variance of the binomial distribution.\n",
    "\n",
    "**Reminder:** selectively neutral here means there is no selective advantage or disadvantage to an organism with the allele A that displays the dominant phenotype."
   ]
  },
  {
   "cell_type": "markdown",
   "metadata": {
    "id": "_a-79RkkV3aw"
   },
   "source": [
    "<h3>Running Code Cells</h3>\n",
    "If you've never used a Jupyter notebook on Google Colab before, here's a quick orientation:\n",
    "\n",
    "Below are code cells containing Python code below that you will want to run.\n",
    "\n",
    "You can run code cells individually in Colab by:\n",
    "- clicking on a code cell and hitting the \"Run\" button (depicted as the \"play\" arrow icon) to the top left of the cell\n",
    "- clicking on a code cell and hitting Cmd/Ctrl+Enter/Return\n",
    "\n",
    "You can run all code cells in this notebook in Colab by:\n",
    "- clicking on \"Runtime\" in the top navigation bar and select \"Run all\"\n",
    "\n",
    "You can edit code within a code cell by clicking into it and then deleting/typing text\n",
    "\n",
    "### Run the following code cell below to import the libraries needed to run the simulation!"
   ]
  },
  {
   "cell_type": "code",
   "execution_count": null,
   "metadata": {
    "id": "MKiWDpj5V3aw"
   },
   "outputs": [],
   "source": [
    "#this code imports several important libraries for our modeling of genetic drift\n",
    "import numpy as np\n",
    "import matplotlib.pyplot as plt\n",
    "import matplotlib"
   ]
  },
  {
   "cell_type": "markdown",
   "metadata": {
    "id": "ISLuHmG8V3aw"
   },
   "source": [
    "### Code/Parameters We Invite You To Adjust!\n",
    "\n",
    "### We encourage you to adjust the numbers for the following 3 variables in the code below:\n",
    "\n",
    "1. **p** (default 0.5) - this is the starting allele frequency of the selectively neutral allele A. Try adjusting this value to any number between 0 and 1.\n",
    "\n",
    "2. **N** (default 5 individuals) - this indicates the effective population size. Try adjusting this value to any number between 5 and 100 individuals.\n",
    "\n",
    "3. **replicate_population** (default 10 populations) - this is how many populations are simulated. Try adjusting this value to any number up to 20.\n",
    "\n",
    "You can adjust the strength of genetic drift (by changing N, the population size) and how many populations are plotted (by changing the number of replicate_population).\n",
    "\n",
    "### Each time you would like to run a new simulation, change the values of the variable(s) of interest and run the code cell below, and then rerun the following code cell outputting the graphs (in the next section) to visualize the effects of the changing parameters.\n"
   ]
  },
  {
   "cell_type": "code",
   "execution_count": null,
   "metadata": {
    "id": "doz7gttmV3ax"
   },
   "outputs": [],
   "source": [
    "#this code designates 4 important parameters (defined below!)\n",
    "\n",
    "#try out different values for p (starting allele frequency of A), N (population size) and replicate_population!\n",
    "p = 0.5 #starting allele frequency of the selectively neutral allele A for our hypothetical gene of interest (default is 0.5; try adjusting!)\n",
    "N = 5 #population size (default is 5; try adjusting!)\n",
    "replicate_population = 5 #number of replicate populations (default is 5; try adjusting!)\n",
    "\n",
    "#keep these variables constant for now!\n",
    "ngen = 500 #number of generations, which will correspond to the x-axis in our output graphs\n",
    "\n",
    "#this code defines a function (drift_sim) that we will use to visualize genetic drift\n",
    "def drift_sim(N, p, ngen):\n",
    "    f_init = p #record the initial allele frequency\n",
    "    fvec = [p] #store the allele frequency over time\n",
    "    f_A = p\n",
    "    for _ in range(ngen-1):\n",
    "        A = np.random.binomial(2*N, f_A)\n",
    "        f_A = A / (2*N)\n",
    "        fvec.append(f_A)\n",
    "    # create a list of allele frequency p over time\n",
    "    f_over_time = [f_init] + fvec\n",
    "    # write out\n",
    "    return f_over_time"
   ]
  },
  {
   "cell_type": "markdown",
   "metadata": {
    "id": "fkmkvtCHV3ax"
   },
   "source": [
    "## Visualization\n",
    "The graph output by the code cell below shows simulations (each line represents a replicate population) of how genetic drift can act on the allele frequency of a selectively neutral allele A over 500 generations.\n",
    "\n",
    "###  You do not need to alter any of the code within this block, just click the “Run” button to view your graph. You can save the output graph from a run by opening the image in a new tab."
   ]
  },
  {
   "cell_type": "code",
   "execution_count": null,
   "metadata": {
    "colab": {
     "base_uri": "https://localhost:8080/",
     "height": 495
    },
    "id": "ZwznHHJdV3ax",
    "outputId": "bd2d7570-dd7d-43ba-b957-33bdc0fd13a6"
   },
   "outputs": [],
   "source": [
    "#this code sets some formatting for the graphs you'll output below!\n",
    "#set plot resolution\n",
    "%config InlineBackend.figure_format = 'retina'\n",
    "\n",
    "#set default figure parameters\n",
    "plt.rcParams['figure.figsize'] = (20,5) #figure size (length, height) in inches\n",
    "\n",
    "small_size = 9\n",
    "medium_size = 12\n",
    "large_size = 15\n",
    "\n",
    "plt.rc('font', size=medium_size)          # default text sizes\n",
    "plt.rc('xtick', labelsize=small_size)     # xtick labels\n",
    "plt.rc('ytick', labelsize=small_size)     # ytick labels\n",
    "plt.rc('legend', fontsize=medium_size)    # legend\n",
    "plt.rc('axes', titlesize=large_size)      # axes title\n",
    "plt.rc('axes', labelsize=large_size)      # x and y labels\n",
    "plt.rc('figure', titlesize=small_size)    # figure title\n",
    "\n",
    "for i in range(replicate_population):\n",
    "    plt.plot(np.linspace(0, ngen, ngen+1), drift_sim(N=N, p=p, ngen=ngen), label = f\"Replicate {i+1}\")\n",
    "\n",
    "plt.title( 'Genetic Drift Simulations') # title\n",
    "plt.xlabel('Generations (ngen)') # x-axis label\n",
    "plt.ylabel('Allele frequency of A (p)')# y-axis label\n",
    "plt.legend()\n",
    "plt.show()\n"
   ]
  }
 ],
 "metadata": {
  "colab": {
   "provenance": []
  },
  "kernelspec": {
   "display_name": "Python 3",
   "language": "python",
   "name": "python3"
  },
  "language_info": {
   "codemirror_mode": {
    "name": "ipython",
    "version": 3
   },
   "file_extension": ".py",
   "mimetype": "text/x-python",
   "name": "python",
   "nbconvert_exporter": "python",
   "pygments_lexer": "ipython3",
   "version": "3.8.5"
  }
 },
 "nbformat": 4,
 "nbformat_minor": 1
}

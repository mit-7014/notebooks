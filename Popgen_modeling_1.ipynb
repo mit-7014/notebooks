{
 "cells": [
  {
   "cell_type": "markdown",
   "metadata": {},
   "source": [
    "## Population Genetics Exercise 1: Modeling Genetic Drift\n",
    "\n",
    "### Context\n",
    "The zygotes (cells resulting from the combination of one egg gamete and one sperm gamete) of one generation are formed from a sub-sampling of gametes from the parental population. This sub-sample inevitably is an imperfect representation of the alleles found in the parental population. **This sampling error results in chance fluctuations in allele frequency across generations, known as genetic drift.**\n",
    "\n",
    "Genetic drift is one of the five forces that can cause evolutionary change - the loss (where the allele frequency becomes 0) versus fixation (the allele frequency becomes 1) of an allele can be caused by genetic drift. \n",
    "\n",
    "Quantitatively, we can think of the drawing of two different alleles (let's designate them as A and a) for one gene in gametes as Bernoulli binomial sampling, so the expected change in the allele frequency of a selectively neutral allele A (which we will designate in the code below as the variable p) corresponds to the variance of the binomial distribution."
   ]
  },
  {
   "cell_type": "code",
   "execution_count": null,
   "metadata": {},
   "outputs": [],
   "source": [
    "#run this code by clicking & selecting this cell, then hitting the \"Run\" button above, or by hitting the keys \"shift\" + \"return\"\n",
    "\n",
    "#this code imports several important libraries for our modeling of genetic drift\n",
    "import numpy as np\n",
    "import matplotlib.pyplot as plt\n",
    "import matplotlib"
   ]
  },
  {
   "cell_type": "markdown",
   "metadata": {},
   "source": [
    "## Code/Parameters We Invite You To Adjust!\n",
    "\n",
    "### We encourage you to adjust the numbers for the following 2 variables in the code below:\n",
    "\n",
    "### 1. **N** (population size; default is 5 individuals) - this adjusts the strength of genetic drift - try out the effects on allele frequency based on small and large population sizes :)\n",
    "\n",
    "### 2. **replicate_population** (default is 10 populations) - this adjusts how many populations are plotted (how many graphs you output!)\n"
   ]
  },
  {
   "cell_type": "code",
   "execution_count": null,
   "metadata": {},
   "outputs": [],
   "source": [
    "#run this code by clicking & selecting this cell, then hitting the \"Run\" button above, or by hitting the keys \"shift\" + \"return\"\n",
    "\n",
    "#this code designates 4 important parameters (defined below!)\n",
    "\n",
    "#try out different values for N (population size) and replicate_population!\n",
    "N = 5 #population size (default is 5; try adjusting!)\n",
    "replicate_population = 10 #number of replication simulations (graphs) that will be output\n",
    "\n",
    "#keep these variables constant for now!\n",
    "p = 0.5 #starting allele frequency of the selectively neutral allele A for our hypothetical gene of interest\n",
    "ngen = 30 #number of generations, which will correspond to the x-axis in our output graphs\n",
    "\n",
    "#this code defines a function (drift_sim) that we will use to visualize genetic drift\n",
    "def drift_sim(N, p, ngen): \n",
    "    f_init = p #record the initial allele frequency\n",
    "    fvec = [p] #store the allele frequency over time\n",
    "    f_A = p \n",
    "    for _ in range(ngen-1):\n",
    "        A = np.random.binomial(2*N, f_A) \n",
    "        f_A = A / (2*N)\n",
    "        fvec.append(f_A)\n",
    "    # create a list of allele frequency p over time\n",
    "    f_over_time = [f_init] + fvec\n",
    "    # write out\n",
    "    return f_over_time"
   ]
  },
  {
   "cell_type": "markdown",
   "metadata": {},
   "source": [
    "## Visualization \n",
    "The graphs output by the code cell below each shows a simulation of how genetic drift can act on the allele frequency of a selectively neutral allele A. \n",
    "\n",
    "**You can adjust the strength of genetic drift (by changing N, the population size) and how many populations are plotted (by changing the number of replicate_population)**"
   ]
  },
  {
   "cell_type": "code",
   "execution_count": null,
   "metadata": {},
   "outputs": [],
   "source": [
    "#run this code by clicking & selecting this cell, then hitting the \"Run\" button above, or by hitting the keys \"shift\" + \"return\"\n",
    "\n",
    "#this code sets some formatting for the graphs you'll output below!\n",
    "#set plot resolution\n",
    "%config InlineBackend.figure_format = 'retina'\n",
    "\n",
    "#set default figure parameters\n",
    "plt.rcParams['figure.figsize'] = (10,13) #figure size (length, height) in inches\n",
    "\n",
    "small_size = 9 \n",
    "medium_size = 12\n",
    "large_size = 15 \n",
    "\n",
    "plt.rc('font', size=medium_size)          # default text sizes\n",
    "plt.rc('xtick', labelsize=small_size)     # xtick labels\n",
    "plt.rc('ytick', labelsize=small_size)     # ytick labels\n",
    "plt.rc('legend', fontsize=medium_size)    # legend\n",
    "plt.rc('axes', titlesize=small_size)      # axes title\n",
    "plt.rc('axes', labelsize=large_size)      # x and y labels\n",
    "plt.rc('figure', titlesize=small_size)    # figure title\n",
    "\n",
    "#this code plots the results from running the drift_sim function as graphs!\n",
    "fig, ax = plt.subplots(replicate_population, sharex=True, sharey=True)\n",
    "fig.tight_layout()\n",
    "fig.text(0.5, 1, 'Genetic Drift Simulations', ha='center') #common title label\n",
    "fig.text(0.5, -0.01, 'Generations (ngen)', ha='center') #common x-axis label\n",
    "fig.text(-0.01, 0.5, 'Allele frequency of A (p)', va='center', rotation='vertical') #common y-axis label\n",
    "\n",
    "for i in range(replicate_population):\n",
    "    ax[i].plot(np.linspace(0, ngen, ngen+1), drift_sim(N=N, p=p, ngen=ngen))\n",
    "    ax[i].set_ylim([0, 1])\n",
    "    ax[i].set_title(f\"Replicate Population {i+1}\") \n",
    "    ax[i].grid(True)"
   ]
  },
  {
   "cell_type": "code",
   "execution_count": null,
   "metadata": {},
   "outputs": [],
   "source": []
  }
 ],
 "metadata": {
  "kernelspec": {
   "display_name": "Python 3",
   "language": "python",
   "name": "python3"
  },
  "language_info": {
   "codemirror_mode": {
    "name": "ipython",
    "version": 3
   },
   "file_extension": ".py",
   "mimetype": "text/x-python",
   "name": "python",
   "nbconvert_exporter": "python",
   "pygments_lexer": "ipython3",
   "version": "3.8.5"
  }
 },
 "nbformat": 4,
 "nbformat_minor": 4
}

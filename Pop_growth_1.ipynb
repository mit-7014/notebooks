{
 "cells": [
  {
   "cell_type": "markdown",
   "metadata": {},
   "source": [
    "## Play with the input parameters of the code below (see the #Comments in the code to identify the purposes of various parts). When you are ready to start, use the code to answer the questions below. Be mindful that you only have one attempt to answer the questions, but unlimited attempts to play with the simulation."
   ]
  },
  {
   "cell_type": "code",
   "execution_count": null,
   "metadata": {},
   "outputs": [],
   "source": [
    "import numpy as np"
   ]
  },
  {
   "cell_type": "code",
   "execution_count": null,
   "metadata": {},
   "outputs": [],
   "source": [
    "#This code runs growth models using for loops and if statements\n",
    "#Type of model to run: 1 = exponential; 2 = logistic -- student choice \n",
    "modeltype = 2;\n",
    "\n",
    "#Input parameters -- student choice\n",
    "N0 = 1; #Initial population size\n",
    "r = .1; #Population growth rate\n",
    "K = 100; #Carrying capacity [only pertains to logistic]\n",
    "t = 200; #Number of generations\n"
   ]
  },
  {
   "cell_type": "code",
   "execution_count": null,
   "metadata": {},
   "outputs": [],
   "source": [
    "# Make the \"storage variables\"\n",
    "generation = np.linspace(0, t, t + 1)\n",
    "dNdt = np.zeros_like(generation)\n",
    "population = np.zeros_like(generation)"
   ]
  },
  {
   "cell_type": "code",
   "execution_count": null,
   "metadata": {},
   "outputs": [],
   "source": [
    "# \"If\" statement selects appropriate model\n",
    "if modeltype == 1:   # run the exponential growth model\n",
    "    for i in range(1, len(generation)):\n",
    "        if i == 1:   # The generation has population = N0\n",
    "            population[i] = N0\n",
    "            dNdt[i] = r * population[i]\n",
    "        else:\n",
    "            population[i] = population[i - 1] + dNdt[i - 1]\n",
    "            dNdt[i] = r * population[i]\n",
    "\n",
    "elif modeltype == 2:   # run the logistic growth model\n",
    "    for i in range(1, len(generation)):\n",
    "        if i == 1:\n",
    "            population[i] = N0\n",
    "            dNdt[i] = r * population[i] * (1 - population[i] / K)\n",
    "        else:\n",
    "            population[i] = population[i - 1] + dNdt[i - 1]\n",
    "            dNdt[i] = r * population[i] * (1 - population[i] / K)\n",
    "\n",
    "else:\n",
    "    print('Error: Choose 1 for exponential model or 2 for logistic model')"
   ]
  },
  {
   "cell_type": "code",
   "execution_count": null,
   "metadata": {},
   "outputs": [],
   "source": [
    "# Make a plot to look at your results\n",
    "\n",
    "import matplotlib.pyplot as plt\n",
    "\n",
    "\n",
    "plt.figure(1)\n",
    "plt.plot(generation, population)\n",
    "plt.xlabel('Generation')\n",
    "plt.ylabel('Population Size')\n",
    "plt.title('Population Size Over Generations')\n",
    "\n",
    "plt.figure(2)\n",
    "plt.plot(population, dNdt)\n",
    "plt.xlabel('Population Size')\n",
    "plt.ylabel('Growth Rate')\n",
    "plt.title('Population Growth Rate')\n",
    "\n",
    "plt.figure(3)\n",
    "plt.plot(population, dNdt / population)\n",
    "plt.xlabel('Population Size')\n",
    "plt.ylabel('Per Capita Growth Rate')\n",
    "plt.title('Per Capita Growth Rate')\n",
    "\n",
    "plt.show()\n"
   ]
  },
  {
   "cell_type": "code",
   "execution_count": null,
   "metadata": {},
   "outputs": [],
   "source": []
  }
 ],
 "metadata": {
  "kernelspec": {
   "display_name": "Python 3",
   "language": "python",
   "name": "python3"
  },
  "language_info": {
   "codemirror_mode": {
    "name": "ipython",
    "version": 3
   },
   "file_extension": ".py",
   "mimetype": "text/x-python",
   "name": "python",
   "nbconvert_exporter": "python",
   "pygments_lexer": "ipython3",
   "version": "3.8.5"
  }
 },
 "nbformat": 4,
 "nbformat_minor": 5
}

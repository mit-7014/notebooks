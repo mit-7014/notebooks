{
 "cells": [
  {
   "cell_type": "markdown",
   "metadata": {},
   "source": [
    "## Population Growth Exercise 1: Modeling Population Growth\n",
    "\n",
    "### Context\n",
    "The United Nations Population Division projects the world population to reach a staggering 11.2 billion by the end of the 21st century. This significant population growth puts a strain on the ecological system, making it even more crucial to closely monitor its health in the face of challenges like climate change. Studying population growth dynamics using quantitative models allows us to analyze trends and predict future population sizes. This information is essential for making informed decisions about resource management and ensuring sustainability as we navigate a changing climate. In this section, we are going to study two models of population growth: exponential and logistic."
   ]
  },
  {
   "cell_type": "markdown",
   "metadata": {},
   "source": [
    "<h3>Running Code Cells</h3>\n",
    "If you've never used a Jupyter notebook on Google Colab before, here's a quick orientation:\n",
    "\n",
    "Below are code cells containing Python code below that you will want to run.\n",
    "\n",
    "You can run code cells individually in Colab by:\n",
    "- clicking on a code cell and hitting the \"Run\" button (depicted as the \"play\" arrow icon) to the top left of the cell\n",
    "- clicking on a code cell and hitting Cmd/Ctrl+Enter/Return\n",
    "\n",
    "You can run all code cells in this notebook in Colab by:\n",
    "- clicking on \"Runtime\" in the top navigation bar and select \"Run all\"\n",
    "\n",
    "You can edit code within a code cell by clicking into it and then deleting/typing text\n",
    "\n",
    "### Run the following code cell below to import the libraries needed to run the simulation!"
   ]
  },
  {
   "cell_type": "code",
   "execution_count": null,
   "metadata": {},
   "outputs": [],
   "source": [
    "#this code imports several important libraries for our modeling of population growth\n",
    "import numpy as np\n",
    "import matplotlib.pyplot as plt"
   ]
  },
  {
   "cell_type": "markdown",
   "metadata": {},
   "source": [
    "### Code/Parameters We Invite You To Adjust!\n",
    "\n",
    "### We encourage you to adjust the numbers for the following 2 variables in the code below:\n",
    "\n",
    "1. **modeltype** (default 1) - this determines whether you model population growth using the exponential (value = 1) or logistic (value = 2) growth models. Try adjusting this value to 1 or 2.\n",
    "\n",
    "2. **N0** (default 1 individual) - this indicates the initial population size. Try adjusting this value to any number between 1 and 300 individuals.\n",
    "\n",
    "You can adjust the type of population growth (by changing modeltype to either exponential or logistic) and the initial population size (N0).\n",
    "\n",
    "### Each time you would like to run a new simulation, change the values of the variable(s) of interest and run the code cell below, and then rerun the following code cell outputting the graph (in the next section) to visualize the effects of the changing parameters.\n"
   ]
  },
  {
   "cell_type": "code",
   "execution_count": null,
   "metadata": {},
   "outputs": [],
   "source": [
    "#this code designates 5 important parameters (defined below!)\n",
    "\n",
    "#try out different values for modeltype (exponential or logistic) and N0 (initial population size)!\n",
    "modeltype = 2 #type of growth model: 1 = exponential; 2 = logistic (default is 1; try adjusting!)\n",
    "N0 = 1 #initial population size (default is 1; try adjusting!)\n",
    "\n",
    "#keep these variables constant for now!\n",
    "r = 0.1 #intrinsic growth rate of the population\n",
    "K = 100 #carrying capacity [only pertains to logistic]\n",
    "t = 200 #number of generations\n",
    "\n",
    "#this code defines \"storage variables\" used in the If statements for simulating population growth below\n",
    "generation = np.linspace(0, t, t + 1)\n",
    "dNdt = np.zeros_like(generation)\n",
    "population = np.zeros_like(generation)\n",
    "\n",
    "#this code runs an If statement that selects the appropriate growth model\n",
    "if modeltype == 1:   #run the exponential growth model\n",
    "    for i in range(1, len(generation)):\n",
    "        if i == 1:   # The generation has population = N0\n",
    "            population[i] = N0\n",
    "            dNdt[i] = r * population[i]\n",
    "        else:\n",
    "            population[i] = population[i - 1] + dNdt[i - 1]\n",
    "            dNdt[i] = r * population[i]\n",
    "\n",
    "elif modeltype == 2:   #run the logistic growth model\n",
    "    for i in range(1, len(generation)):\n",
    "        if i == 1:\n",
    "            population[i] = N0\n",
    "            dNdt[i] = r * population[i] * (1 - population[i] / K)\n",
    "        else:\n",
    "            population[i] = population[i - 1] + dNdt[i - 1]\n",
    "            dNdt[i] = r * population[i] * (1 - population[i] / K)\n",
    "\n",
    "else:\n",
    "    print('Error: Choose 1 for exponential model or 2 for logistic model')"
   ]
  },
  {
   "cell_type": "markdown",
   "metadata": {},
   "source": [
    "## Visualization\n",
    "The graphs output by the code cell below shows simulations of either exponential or logistic population growth over 200 generations in 3 different plots: \n",
    "1. population size (N) as a function of generations (t)\n",
    "2. dN/dt as a function of population size (N)\n",
    "3. per capita growth rate ((dN/dt)/N) as a function of population size (N)\n",
    "\n",
    "###  You do not need to alter any of the code within this block, just click the “Run” button to view your graph. You can save the output graph from a run by opening the image in a new tab."
   ]
  },
  {
   "cell_type": "code",
   "execution_count": null,
   "metadata": {},
   "outputs": [],
   "source": [
    "#this code sets some formatting for the graphs you'll output below!\n",
    "#set plot resolution\n",
    "%config InlineBackend.figure_format = 'retina'\n",
    "\n",
    "#set default figure parameters\n",
    "plt.rcParams['figure.figsize'] = (20,5) #figure size (length, height) in inches\n",
    "\n",
    "small_size = 9\n",
    "medium_size = 12\n",
    "large_size = 15\n",
    "\n",
    "plt.rc('font', size=medium_size)          # default text sizes\n",
    "plt.rc('xtick', labelsize=small_size)     # xtick labels\n",
    "plt.rc('ytick', labelsize=small_size)     # ytick labels\n",
    "plt.rc('legend', fontsize=medium_size)    # legend\n",
    "plt.rc('axes', titlesize=large_size)      # axes title\n",
    "plt.rc('axes', labelsize=large_size)      # x and y labels\n",
    "plt.rc('figure', titlesize=small_size)    # figure title\n",
    "\n",
    "#generate plots\n",
    "plt.figure(1)\n",
    "plt.plot(generation, population)\n",
    "plt.xlabel('Generation (t)')\n",
    "plt.ylabel('Population Size (N)')\n",
    "plt.title('Population Size Over Generations')\n",
    "\n",
    "plt.figure(2)\n",
    "plt.plot(population, dNdt)\n",
    "plt.xlabel('Population Size (N)')\n",
    "plt.ylabel('dN/dt')\n",
    "plt.title('dN/dt as a Function of Population Size')\n",
    "\n",
    "plt.figure(3)\n",
    "plt.plot(population, dNdt / population)\n",
    "plt.xlabel('Population Size (N)')\n",
    "plt.ylabel('Per Capita Growth Rate ((dN/dt)/N)')\n",
    "plt.title('Per Capita Growth Rate')\n",
    "plt.show()"
   ]
  }
 ],
 "metadata": {
  "kernelspec": {
   "display_name": "Python 3",
   "language": "python",
   "name": "python3"
  },
  "language_info": {
   "codemirror_mode": {
    "name": "ipython",
    "version": 3
   },
   "file_extension": ".py",
   "mimetype": "text/x-python",
   "name": "python",
   "nbconvert_exporter": "python",
   "pygments_lexer": "ipython3",
   "version": "3.8.5"
  }
 },
 "nbformat": 4,
 "nbformat_minor": 5
}

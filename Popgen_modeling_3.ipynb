{
 "cells": [
  {
   "cell_type": "markdown",
   "metadata": {},
   "source": [
    "## Population Genetics Exercise 3: Modeling Positive Selection and Genetic Drift\n",
    "\n",
    "### Context\n",
    "The zygotes (cells resulting from the combination of one egg gamete and one sperm gamete) of one generation are formed from a sub-sampling of gametes from the parental population. This sub-sample inevitably is an imperfect representation of the alleles found in the parental population. **This sampling error results in chance fluctuations in allele frequency across generations, known as genetic drift.**\n",
    "\n",
    "Genetic drift is one of the five forces that can cause evolutionary change - the loss (where the allele frequency becomes 0) versus fixation (the allele frequency becomes 1) of an allele can be caused by genetic drift.\n",
    "\n",
    "**Positive selection is a directional evolutionary force, allowing us to predict how likely it is that a beneficial  mutation will eventually become fixed in the population.**\n",
    "\n",
    "We are modifying our hypothetical example from Exercises 1-2. While we are still considering two different alleles (designated A and a) for one gene, we are now looking at the change in the allele frequency of the selectively **positive/beneficial** allele A (designated as the variable p) and the allele frequency of allele a (designated as the variable q) in a population that experiences genetic drift and positive selection.\n",
    "\n",
    "If selection is weak compared to genetic drift, the stochasticity of reproduction can play a role in the trajectory an allele takes even when it is common in the population. If selection is sufficiently weak compared to genetic drift, then genetic drift will dominate the dynamics of alleles and they will behave like they’re effectively neutral. \n",
    "\n",
    "For a newly arising mutation to eventually get fixed, it first has to escape loss by drift when rare, because even beneficial alleles are susceptible to the stochastic effects of genetic drift when they are very rare or in a small population. Population size holds a fundamental place in understanding evolution because it influences how effective the force of positive selection is actually producing evolutionary change. "
   ]
  },
  {
   "cell_type": "markdown",
   "metadata": {},
   "source": [
    "<h3>Running Code Cells</h3>\n",
    "If you've never used a Jupyter notebook on Google Colab before, here's a quick orientation:\n",
    "\n",
    "Below are code cells containing Python code below that you will want to run. \n",
    "\n",
    "You can run code cells individually in Colab by: \n",
    "- clicking on a code cell and hitting the \"Run\" button to the top right of the cell\n",
    "- clicking on a code cell and hitting Cmd/Ctrl+Enter/Return\n",
    "\n",
    "You can run all code cells in this notebook in Colab by:\n",
    "- clicking on \"Runtime\" in the top navigation bar and select \"Run all\"\n",
    "\n",
    "You can edit code within a code cell by clicking into it and then deleting/typing text"
   ]
  },
  {
   "cell_type": "code",
   "execution_count": null,
   "metadata": {},
   "outputs": [],
   "source": [
    "#this code imports several important libraries for our modeling of genetic drift and positive selection\n",
    "import numpy as np\n",
    "import matplotlib.pyplot as plt\n",
    "from collections import defaultdict\n",
    "from random import random"
   ]
  },
  {
   "cell_type": "markdown",
   "metadata": {},
   "source": [
    "## Code/Parameters We Invite You To Adjust!\n",
    "\n",
    "### We encourage you to adjust the numbers for the following 2 variables in the code below:\n",
    "\n",
    "### 1. **N** (population size; default is 5 individuals) - this adjusts the strength of genetic drift - try out the effects on allele frequency based on small and large population sizes :)\n",
    "\n",
    "### 2. **replicate_population** (default is 5 populations) - this adjusts how many populations are plotted (how many graphs you output!)\n"
   ]
  },
  {
   "cell_type": "code",
   "execution_count": null,
   "metadata": {},
   "outputs": [],
   "source": [
    "#this code designates 4 important parameters (defined below!)\n",
    "\n",
    "#try out different values for WHICH ONES????\n",
    "\n",
    "#keep these variables constant for now! - AGAIN, WHICH ONES???\n",
    "\n",
    "p = 0.2 #starting allele frequency of the selectively positive allele A  \n",
    "q = 1 - p #starting allele frequency of the allele a \n",
    "s = 0.1 #selection coefficient - NEED MORE EXPOSITION HERE\n",
    "WAA = 0.1 + 2*s  #fitness of AA homozygotes\n",
    "WAa = 0.1 + s    #fitness of Aa heterozygotes\n",
    "Waa = 0.1        #fitness of aa homozgyotes\n",
    "N = 10 #population size (default is 10 individuals)\n",
    "ngen = 200 #number of generations, which will correspond to the x-axis in our output graph\n",
    "\n",
    "#this code defines various functions that we will use to visualize genetic drift and positive selection\n",
    "def random_genotype(f_A): #f_A -- allele frequency of allele A\n",
    "    if random() <= f_A:\n",
    "        sperm_allele = 'A'\n",
    "    else:\n",
    "        sperm_allele = 'a'\n",
    "    \n",
    "    if random() <= f_A:\n",
    "        egg_allele = 'A'\n",
    "    else:\n",
    "        egg_allele = 'a'\n",
    "    \n",
    "    genotype = sperm_allele+egg_allele\n",
    "    return genotype\n",
    "\n",
    "def simulate_random_mating(pop_sizes,f_A):\n",
    "    genotypes = defaultdict(int)\n",
    "    \n",
    "    for i in range(pop_sizes):\n",
    "        curr_genotype = random_genotype(f_A)\n",
    "        genotypes[curr_genotype]+=1\n",
    "    \n",
    "    for g in genotypes.keys():\n",
    "        genotypes[g] = genotypes[g]/float(pop_sizes)\n",
    "    \n",
    "    return genotypes\n",
    "\n",
    "def simulate_genetic_drift_with_selection(n_generations,pop_sizes,f_A=0.5,\n",
    "                                          WAA=1.0,WAa=1.0,Waa = 1.0):\n",
    "    \"\"\"Return the new frequency of A given Hardy-Weinberg equilibrium + selection\"\"\"\n",
    "    generations = range(n_generations)\n",
    "    allele_freqs = []\n",
    "    for generation in generations:\n",
    "        genotypes = None\n",
    "        genotypes = simulate_random_mating(pop_sizes,f_A)\n",
    "        numerator = (genotypes['AA']*WAA+\\\n",
    "                     0.5*genotypes['aA']*WAa+\\\n",
    "                     0.5*genotypes['Aa']*WAa)\n",
    "        \n",
    "        denominator = (genotypes['AA']*WAA+\\\n",
    "                       genotypes['Aa']*WAa+\\\n",
    "                       genotypes['aA']*WAa+\\\n",
    "                       genotypes['aa']*Waa)\n",
    "        f_A = numerator/denominator       \n",
    "        allele_freqs.append(f_A)\n",
    "    return list(generations),allele_freqs"
   ]
  },
  {
   "cell_type": "markdown",
   "metadata": {},
   "source": [
    "## Visualization \n",
    "The graph output by the code cell below shows a simulation of how genetic drift and positive selection can act on the allele frequencies of a selectively positive allele A and allele a. \n",
    "\n",
    "**THE FOLLOWING NEEDS ADJUSTING BASED ON WHAT WE WANT STUDENTS TO PLAY WITH: You can adjust the strength of genetic drift (by changing N, the population size) and how many populations are plotted (by changing the number of replicate_population)**"
   ]
  },
  {
   "cell_type": "code",
   "execution_count": null,
   "metadata": {},
   "outputs": [],
   "source": [
    "#this code sets some formatting for the graph you'll output below!\n",
    "#set plot resolution\n",
    "%config InlineBackend.figure_format = 'retina'\n",
    "\n",
    "#set default figure parameters\n",
    "plt.rcParams['figure.figsize'] = (10,5) #figure size (length, height) in inches\n",
    "\n",
    "small_size = 9 \n",
    "medium_size = 12\n",
    "large_size = 15 \n",
    "\n",
    "plt.rc('font', size=medium_size)          # default text sizes\n",
    "plt.rc('xtick', labelsize=medium_size)    # xtick labels\n",
    "plt.rc('ytick', labelsize=medium_size)    # ytick labels\n",
    "plt.rc('legend', fontsize=medium_size)    # legend\n",
    "plt.rc('axes', titlesize=large_size)      # axes title\n",
    "plt.rc('axes', labelsize=large_size)      # x and y labels\n",
    "plt.rc('figure', titlesize=large_size)    # figure title\n",
    "\n",
    "#this code plots the results from running the simulate_genetic_drift_with_selection function as a graph!\n",
    "xs,ps = simulate_genetic_drift_with_selection(ngen,N,p, WAA,WAa,Waa) # get the allele frequency of allele A over time\n",
    "qs = [1.0 - p for p in ps] #get the allele frequency of allele a\n",
    "\n",
    "#plt.figure(dpi=800)    \n",
    "plt.plot(xs,ps,'-r',label='f(A) ')\n",
    "plt.plot(xs,qs,'-b',label='f(a) ')\n",
    "plt.title(\"Genetic Drift and Positive Selection Effects on Allele Frequency\")\n",
    "plt.ylabel('Allele Frequency')\n",
    "plt.xlabel('Generations')\n",
    "plt.legend()\n",
    "plt.grid()\n"
   ]
  }
 ],
 "metadata": {
  "kernelspec": {
   "display_name": "Python 3",
   "language": "python",
   "name": "python3"
  },
  "language_info": {
   "codemirror_mode": {
    "name": "ipython",
    "version": 3
   },
   "file_extension": ".py",
   "mimetype": "text/x-python",
   "name": "python",
   "nbconvert_exporter": "python",
   "pygments_lexer": "ipython3",
   "version": "3.8.5"
  }
 },
 "nbformat": 4,
 "nbformat_minor": 4
}

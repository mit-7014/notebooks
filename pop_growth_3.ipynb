{
 "cells": [
  {
   "cell_type": "markdown",
   "metadata": {},
   "source": [
    "## Two Options for a Virtual Fishery\n",
    "Similar to the models before with logistic and exponential growth, we provide you with two ways of exploring population dynamics in a virtual fishery."
   ]
  },
  {
   "cell_type": "markdown",
   "metadata": {},
   "source": [
    "You can use the following code, which constructs a simple fishery, simulating some of the data and decisions a fishery manager would have to think about. The harvest input parameter, H, has been set to 0 (but you can set H to anything you like to see what happens to the fish population). See the #comments to identify the other purposes of various parts in the code. "
   ]
  },
  {
   "cell_type": "markdown",
   "metadata": {},
   "source": [
    "This code simulates a very simplistic fishery. All the fish are in one place, and you can choose to harvest as many as you want.\n",
    "\n",
    "Can you manage the fishery sustainably?"
   ]
  },
  {
   "cell_type": "markdown",
   "metadata": {},
   "source": [
    "Imagine a fishery where the fish population grows logistically according to the equation:\n",
    "\n",
    "$$\n",
    "    \\frac{dN}{dt} = rN(1-N/K)\n",
    "$$\n",
    "\n",
    "where:    \n",
    "            \n",
    "           N = number of fish\n",
    "\n",
    "           t = time\n",
    "           \n",
    "           r = population growth rate\n",
    "           \n",
    "           K = carrying capacity"
   ]
  },
  {
   "cell_type": "markdown",
   "metadata": {},
   "source": [
    "Now, we will introduce a harvest term, H, which is the number of fish humans remove from the population by fishing:\n",
    "\n",
    "$$\n",
    "\\frac{dN}{dt} = rN(1-N/K) - H\n",
    "$$\n",
    "\n",
    "\n",
    "Managers are often tasked with choosing this \"H\" so that the fishery is sustainable -- that is, so that the number of fish does not change from year to year. With a bit of algebra or calculus, you can arrive at the correct choice for H, or you can play with the simulation below.\n"
   ]
  },
  {
   "cell_type": "code",
   "execution_count": 2,
   "metadata": {},
   "outputs": [
    {
     "data": {
      "image/png": "[encoded data removed]",
      "text/plain": [
       "<Figure size 432x288 with 1 Axes>"
      ]
     },
     "metadata": {
      "needs_background": "light"
     },
     "output_type": "display_data"
    }
   ],
   "source": [
    "import numpy as np\n",
    "import matplotlib.pyplot as plt\n",
    "\n",
    "# Choose your parameters\n",
    "r = 0.1     # Fish population growth rate\n",
    "K = 100     # Fish carrying capacity\n",
    "N0 = K/2    # Fish initial population size\n",
    "t = 100     # We'll let this run for a long time to see how you did\n",
    "\n",
    "H = 1  # Your choice of harvest rate\n",
    "\n",
    "# Variables to hold data\n",
    "time = np.linspace(0, t, t+1)\n",
    "population = np.zeros_like(time)\n",
    "harvest = np.zeros_like(time)\n",
    "\n",
    "# Run the model\n",
    "for i in range(len(time)):\n",
    "    if i == 0:\n",
    "        population[i] = N0\n",
    "        harvest[i] = H\n",
    "    else:\n",
    "        population[i] = population[i-1] + (r*population[i-1]*(1-population[i-1]/K)-harvest[i-1])\n",
    "        if population[i] > H:\n",
    "            harvest[i] = H\n",
    "        else:\n",
    "            harvest[i] = population[i]\n",
    "\n",
    "# Plot the results\n",
    "plt.figure(2)\n",
    "plt.plot(time, population)\n",
    "plt.xlabel('Time (years)')\n",
    "plt.ylabel('Fish Population Size')\n",
    "plt.show()\n",
    "\n",
    "# Explore: What happens if you \"overfish\" (i.e. H is too large)?\n",
    "# What happens if your fish population is destabilized (i.e., somehow your initial population gets bumped below K/2)?\n"
   ]
  },
  {
   "cell_type": "code",
   "execution_count": null,
   "metadata": {},
   "outputs": [],
   "source": []
  }
 ],
 "metadata": {
  "kernelspec": {
   "display_name": "Python 3",
   "language": "python",
   "name": "python3"
  },
  "language_info": {
   "codemirror_mode": {
    "name": "ipython",
    "version": 3
   },
   "file_extension": ".py",
   "mimetype": "text/x-python",
   "name": "python",
   "nbconvert_exporter": "python",
   "pygments_lexer": "ipython3",
   "version": "3.7.6"
  }
 },
 "nbformat": 4,
 "nbformat_minor": 4
}
